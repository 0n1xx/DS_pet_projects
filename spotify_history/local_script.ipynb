{
 "cells": [
  {
   "cell_type": "code",
   "id": "initial_id",
   "metadata": {
    "collapsed": true
   },
   "source": [
    "import spotipy\n",
    "from spotipy.oauth2 import SpotifyOAuth"
   ],
   "outputs": [],
   "execution_count": null
  },
  {
   "metadata": {},
   "cell_type": "code",
   "source": [
    "sp_oauth = SpotifyOAuth(\n",
    "    \tclient_id=\"your_client_id\",\n",
    "    \tclient_secret=\"your_client_secret\",\n",
    "    \tredirect_uri=\"http://localhost:7777/callback\",\n",
    "        scope=\"user-top-read user-read-recently-played\"\n",
    "    )"
   ],
   "id": "fce89f53da7c4893",
   "outputs": [],
   "execution_count": null
  },
  {
   "metadata": {},
   "cell_type": "code",
   "source": "token_info = sp_oauth.get_access_token(as_dict=True)",
   "id": "62a8110b87dd3271",
   "outputs": [],
   "execution_count": null
  },
  {
   "metadata": {},
   "cell_type": "code",
   "source": [
    "print(\"Access Token:\", token_info['access_token'])\n",
    "print(\"Refresh Token:\", token_info['refresh_token'])"
   ],
   "id": "294bc3af10135df6",
   "outputs": [],
   "execution_count": null
  }
 ],
 "metadata": {
  "kernelspec": {
   "display_name": "Python 3",
   "language": "python",
   "name": "python3"
  },
  "language_info": {
   "codemirror_mode": {
    "name": "ipython",
    "version": 2
   },
   "file_extension": ".py",
   "mimetype": "text/x-python",
   "name": "python",
   "nbconvert_exporter": "python",
   "pygments_lexer": "ipython2",
   "version": "2.7.6"
  }
 },
 "nbformat": 4,
 "nbformat_minor": 5
}
