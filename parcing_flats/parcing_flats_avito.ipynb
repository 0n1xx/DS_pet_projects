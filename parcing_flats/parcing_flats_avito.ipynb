{
 "cells": [
  {
   "cell_type": "markdown",
   "source": [
    "### Парсинг квартир:"
   ],
   "metadata": {
    "collapsed": false
   }
  },
  {
   "cell_type": "markdown",
   "source": [
    "##### Описание:\n",
    "\n",
    "В данной работе я хочу совместить сразу несколько компонентов, а именно:\n",
    "- Спарсить данные с сайта о их продажи;\n",
    "- Визуализировать различные показатели, за которым было бы интересно наблюдать;\n",
    "- Систематизировать весь этот цикл.\n",
    "\n",
    "Условно данный проект состоит из следующий частей:\n",
    "- Парсинг -> отправка данных в бд -> визуализация данных, при этом все это будет проходить системно.\n",
    "\n",
    "В данном ноутбуке будет лежать код и мысли в ходе моей работы, из технологий я буду использовать следующее:\n",
    "- Python и библиотеки;\n",
    "- Clickhouse;\n",
    "- Superset;\n",
    "- Airflow;\n",
    "- Docker."
   ],
   "metadata": {
    "collapsed": false
   }
  },
  {
   "cell_type": "code",
   "execution_count": null,
   "outputs": [],
   "source": [
    "import pandas as pd\n",
    "import requests\n",
    "from hyper.contrib import HTTP20Adapter\n",
    "from bs4 import BeautifulSoup as bs\n",
    "from time import sleep\n",
    "from airflow.models import Variable\n",
    "from datetime import datetime, timedelta\n",
    "from clickhouse_driver import Client\n",
    "import telegram\n",
    "import emoji # Для особой миссии !\n",
    "import warnings\n",
    "warnings.filterwarnings(\"ignore\")\n",
    "\n",
    "# Параметры для airflow\n",
    "default_args = {\n",
    "    'owner': 'airflow',\n",
    "    'depends_on_past': False,\n",
    "    'retries': 2,\n",
    "    'retry_delay': timedelta(minutes=3),\n",
    "    'start_date': datetime(2022, 9, 3),\n",
    "}\n",
    "schedule_interval = \"00 22 * * 4\"\n",
    "\n",
    "#Конфиги для телеграмм бота и кликхауса\n",
    "client = Client(host=Variable.get(\"CLICKHOUSE_HOST\"))\n",
    "my_token = Variable.get(\"TG_TOKEN\")\n",
    "bot = telegram.Bot(token=my_token)\n",
    "chat_id = Variable.get(\"CHAT_ID_MOSCOW_FLATS\")"
   ],
   "metadata": {
    "collapsed": false
   }
  },
  {
   "cell_type": "markdown",
   "source": [
    "Что буду парсить:\n",
    "1. Ссылку;\n",
    "2. Цену за квадратный метр;\n",
    "3. Стоимость за квадратный метр;\n",
    "4. Стоимость квартиры;\n",
    "5. Расстояние от метро.\n",
    "\n",
    "Предупреждение:\n",
    "- Данные при сборке очень грязные поэтому приходится очищать на каждом этапе."
   ],
   "metadata": {
    "collapsed": false
   }
  },
  {
   "cell_type": "code",
   "execution_count": null,
   "outputs": [],
   "source": [
    "def parce_vacancies():\n",
    "    lst_links, lst_square, lst_price, lst_subway, lst_description, lst_minutes = [], [], [], [], [], []\n",
    "\n",
    "    for page in range(1, 99):\n",
    "        print(emoji.emojize(f'Идет {page} страница :monkey:'))\n",
    "        full_url = f\"https://www.avito.ru/moskva/kvartiry/prodam-ASgBAgICAUSSA8YQ?cd=1&p={page}\"\n",
    "        source = requests.Session()\n",
    "        source.mount('https://', HTTP20Adapter())#адаптер, чтобы сервер не воспринимал нас как бота\n",
    "        response = source.get(full_url)\n",
    "        sleep(7)\n",
    "        response.encoding = 'utf-8'\n",
    "        soup = bs(response.text, 'lxml')\n",
    "\n",
    "        all_flats = soup.findAll(\"div\", class_=\"iva-item-content-rejJg\")\n",
    "\n",
    "        for flat in all_flats:\n",
    "\n",
    "            #Ссылка на квартиру:\n",
    "            var_link = flat.find(\"a\",\n",
    "                                 \"link-link-MbQDP link-design-default-_nSbv title-root-zZCwT iva-item-title-py3i_ title-listRedesign-_rejR title-root_maxHeight-X6PsH\")\n",
    "            if var_link is not None:\n",
    "                local_var_link = \"https://www.avito.ru\" + var_link.get(\"href\")\n",
    "                lst_links.append([local_var_link])\n",
    "            else:\n",
    "                lst_links.append([None])\n",
    "\n",
    "            #Цена на квадратный метр:\n",
    "            var_square = flat.find(\"span\",\n",
    "                                   class_=\"price-noaccent-X6dOy price-normalizedPrice-PplY9 text-text-LurtD text-size-s-BxGpL\")\n",
    "            if var_square is not None:\n",
    "                var = flat.find(\"span\",\n",
    "                                class_=\"price-noaccent-X6dOy price-normalizedPrice-PplY9 text-text-LurtD text-size-s-BxGpL\").text\n",
    "                correct_number_square_price = \"\"\n",
    "                for var_square_circle in var:\n",
    "                    if var_square_circle.isdigit():\n",
    "                        correct_number_square_price += var_square_circle\n",
    "                #Убираем последнею цифру так как там значение в квадрате:\n",
    "                correct_number_square_price = correct_number_square_price.replace(correct_number_square_price[-1], \"\")\n",
    "                lst_square.append(correct_number_square_price)\n",
    "            else:\n",
    "                lst_square.append(None)\n",
    "\n",
    "            #Полное число\n",
    "            var_full_price = flat.find(\"span\", class_=\"price-text-_YGDY text-text-LurtD text-size-s-BxGpL\")\n",
    "            if var_full_price is not None:\n",
    "                full_price = var_full_price.text\n",
    "                correct_number_full_price = \"\"\n",
    "                #Оставляем лишь число:\n",
    "                for var_full_price_circle in full_price:\n",
    "                    if var_full_price_circle.isdigit():\n",
    "                        correct_number_full_price += var_full_price_circle\n",
    "                lst_price.append(correct_number_full_price)\n",
    "            else:\n",
    "                lst_price.append(None)\n",
    "\n",
    "            #Станция метро\n",
    "            var_subway = flat.find('div', class_=\"geo-georeferences-SEtee text-text-LurtD text-size-s-BxGpL\")\n",
    "            if var_subway is not None:\n",
    "                subway_name = var_subway.text\n",
    "                subway_full = \"\"\n",
    "                for var_subway_circle in subway_name:\n",
    "                    if var_subway_circle.isalpha() or var_subway_circle == \" \" or var_subway_circle == \"-\":\n",
    "                        subway_full += var_subway_circle\n",
    "                    else:\n",
    "                        break\n",
    "                #Прописываю if для тех случаев когда в название метро попадает от и до:\n",
    "                if (subway_full[-1] == \"т\" and subway_full[-2] == \"о\") or (\n",
    "                        subway_full[-1] == \"о\" and subway_full[-2] == \"д\"):\n",
    "                    subway_full = subway_full[0:-2]\n",
    "                lst_subway.append(subway_full)\n",
    "            else:\n",
    "                lst_subway.append(None)\n",
    "\n",
    "            #Расстояние до метро:\n",
    "            var_minutes = flat.find(\"span\", class_=\"geo-periodSection-bQIE4\")\n",
    "            if var_minutes is not None:\n",
    "                var_minutes_text = var_minutes.text\n",
    "                var_minutes_full = \"\"\n",
    "                for var_minute_circle in var_minutes_text:\n",
    "                    if var_minute_circle == '–' or var_minute_circle.isdigit():\n",
    "                        var_minutes_full += var_minute_circle\n",
    "                lst_minutes.append(var_minutes_full)\n",
    "            else:\n",
    "                lst_minutes.append(None)\n",
    "\n",
    "    full_df = pd.DataFrame(\n",
    "        data={\"square_price\": lst_square, \"full_price\": lst_price, \"subway\": lst_subway, \"links\": lst_links,\n",
    "              'destination_from_nearest_subway': lst_minutes})\n",
    "\n",
    "    return full_df"
   ],
   "metadata": {
    "collapsed": false
   }
  },
  {
   "cell_type": "code",
   "execution_count": null,
   "outputs": [],
   "source": [
    "full_df = parce_vacancies()"
   ],
   "metadata": {
    "collapsed": false
   }
  },
  {
   "cell_type": "markdown",
   "source": [
    "Создам копию df для того чтобы в случае преобразования какой-либо колонки мне можно было вернуться к изначальному датафрейму:"
   ],
   "metadata": {
    "collapsed": false
   }
  },
  {
   "cell_type": "code",
   "execution_count": null,
   "outputs": [],
   "source": [
    "full_df_test = full_df.copy()\n",
    "full_df_test.head()"
   ],
   "metadata": {
    "collapsed": false
   }
  },
  {
   "cell_type": "markdown",
   "source": [
    "Дальше я отфильтрую датафрейм от пустых значений, поменяю типы данных, исправлю все недочеты со ссылками:"
   ],
   "metadata": {
    "collapsed": false
   }
  },
  {
   "cell_type": "code",
   "execution_count": null,
   "outputs": [],
   "source": [
    "def filter_df(df):\n",
    "    df = df.drop_duplicates(\n",
    "        subset=\"links\")  #порой попадаются дубликаты так как сайт 'динамически' переходит на следующею страницу\n",
    "    df = df.dropna()\n",
    "    df[[\"square_price\", \"full_price\"]] = df[[\"square_price\", \"full_price\"]].astype(\"int64\")\n",
    "    df[[\"subway\", \"links\", \"destination_from_nearest_subway\"]] = df[\n",
    "        [\"subway\", \"links\", \"destination_from_nearest_subway\"]].astype(str)\n",
    "    df.links = df.links.str.replace(\"[\", \"\")\n",
    "    df.links = df.links.str.replace(\"]\", \"\")\n",
    "    df.links = df.links.str.replace(\"'\",\"\")\n",
    "\n",
    "    df[\"quantity_of_metres\"] = (df[\"full_price\"] / df[\"square_price\"]).round()\n",
    "    df[\"date_of_parsing\"] = datetime.today().strftime('%Y-%m-%d')\n",
    "    df[\"date_of_parsing\"] = pd.to_datetime(df[\"date_of_parsing\"])\n",
    "    return df"
   ],
   "metadata": {
    "collapsed": false
   }
  },
  {
   "cell_type": "code",
   "execution_count": null,
   "outputs": [],
   "source": [
    "full_df_test = filter_df(full_df_test)\n",
    "full_df_test.head()"
   ],
   "metadata": {
    "collapsed": false
   }
  },
  {
   "cell_type": "code",
   "execution_count": null,
   "outputs": [],
   "source": [
    "def uncommon_values(df_new):\n",
    "\n",
    "    #Достаем все записи из таблицы и создаем новый датафрейм:\n",
    "    df_old = client.execute(\"Select * from avito_flats\")\n",
    "    df_old = pd.DataFrame(columns=[\"square_price\", \"full_price\", \"subway\", \"links\", \"destination_from_nearest_subway\", \"quantity_of_metres\", \"date_of_parsing\"],\n",
    "                          data=df_old)\n",
    "    df_new_values = df_new.merge(df_old,on=\"links\",how=\"left\",indicator=True).loc[lambda x: x[\"_merge\"] == 'left_only']\n",
    "    df_new_values = df_new_values.drop([\"square_price_y\",\"full_price_y\",\"subway_y\",\"destination_from_nearest_subway_y\",\"quantity_of_metres_y\", \"date_of_parsing_y\", \"_merge\"],axis=1)\n",
    "    df_new_values = df_new_values.rename(columns={\"square_price_x\":\"square_price\", \"full_price_x\":\"full_price\",\"subway_x\":\"subway\",\"destination_from_nearest_subway_x\":\"destination_from_nearest_subway\",\"quantity_of_metres_x\":\"quantity_of_metres\",\"date_of_parsing_x\":\"date_of_parsing\"})\n",
    "\n",
    "    return df_new_values"
   ],
   "metadata": {
    "collapsed": false
   }
  },
  {
   "cell_type": "code",
   "execution_count": null,
   "outputs": [],
   "source": [
    "full_df_new_values = uncommon_values(full_df_test)\n",
    "full_df_new_values.head()"
   ],
   "metadata": {
    "collapsed": false
   }
  },
  {
   "cell_type": "markdown",
   "source": [
    "Теперь стоит проверить что все работает, а сделать это можно с помощью inner join, ведь как мы знаем что он ищет общие элементы, тем самым если он вернет пустой датафрейм, то в отобранном датафрейме лежат только новые значения:"
   ],
   "metadata": {
    "collapsed": false
   }
  },
  {
   "cell_type": "code",
   "execution_count": null,
   "outputs": [],
   "source": [
    "click_data = client.execute(\"Select * from avito_flats\")\n",
    "click_data = pd.DataFrame(columns=[\"square_price\", \"full_price\", \"subway\", \"links\", \"destination_from_nearest_subway\", \"quantity_of_metres\", \"date_of_parsing\"],\n",
    "                      data=click_data)"
   ],
   "metadata": {
    "collapsed": false
   }
  },
  {
   "cell_type": "code",
   "execution_count": null,
   "outputs": [],
   "source": [
    "full_df_new_values.merge(click_data,how=\"inner\",on=\"links\")"
   ],
   "metadata": {
    "collapsed": false
   }
  },
  {
   "cell_type": "markdown",
   "source": [
    "Удостоверились что все хорошо и теперь можно продолжать, но перед этим стоит сразу добавить новые данные в бд:"
   ],
   "metadata": {
    "collapsed": false
   }
  },
  {
   "cell_type": "code",
   "execution_count": null,
   "outputs": [],
   "source": [
    "def to_clickhouse(df):\n",
    "    client.execute(\"INSERT INTO default.avito_flats VALUES\", df.to_dict(orient=\"records\"))\n",
    "    client.execute('OPTIMIZE TABLE avito_flats DEDUPLICATE BY links')"
   ],
   "metadata": {
    "collapsed": false
   }
  },
  {
   "cell_type": "code",
   "execution_count": null,
   "outputs": [],
   "source": [
    "to_clickhouse(full_df_new_values)"
   ],
   "metadata": {
    "collapsed": false
   }
  },
  {
   "cell_type": "markdown",
   "source": [
    "Как будут отбираться дешевые квартиры ?\n",
    "- Подход следующий: сначала мы посмотрим на каждой станции метро значение 15 квантиля и после будет фильтровать все значения по нему, тем самым сможем отобрать дешевые квартиры в разрезе станции метро. Также буду брать квартири, которые находятся в 10-минутной доступности от метро."
   ],
   "metadata": {
    "collapsed": false
   }
  },
  {
   "cell_type": "code",
   "execution_count": null,
   "outputs": [],
   "source": [
    "def cheap_flats(df):\n",
    "    def q15(x):\n",
    "        return x.quantile(0.15)\n",
    "\n",
    "    #Создаю датафрейм по каждой станции с 10 персентилем по каждой метрике\n",
    "    metro_10_percentile = df.groupby(\"subway\", as_index=False).agg({\"full_price\": q15, \"square_price\": q15}).rename(\n",
    "        columns={\"full_price\": \"full_price_10_percentile\", \"square_price\": \"square_price_10_percentile\"}).sort_values(\n",
    "        \"square_price_10_percentile\", ascending=False)\n",
    "\n",
    "    needed_flats = df.query(\"destination_from_nearest_subway in ('5','6-10')\")\n",
    "    both_frames = needed_flats.merge(metro_10_percentile, how=\"left\", on=\"subway\")\n",
    "    cheep_flats = both_frames.query(\n",
    "        \"square_price <= square_price_10_percentile and full_price <= full_price_10_percentile\").drop_duplicates(\n",
    "        subset=\"links\")\n",
    "    cheep_flats = cheep_flats[\n",
    "        [\"square_price\", \"full_price\", \"subway\", \"links\", \"destination_from_nearest_subway\", \"quantity_of_metres\"]]\n",
    "\n",
    "    return cheep_flats"
   ],
   "metadata": {
    "collapsed": false
   }
  },
  {
   "cell_type": "code",
   "execution_count": null,
   "outputs": [],
   "source": [
    "needed_df = cheap_flats(full_df_test)\n",
    "needed_df.head()"
   ],
   "metadata": {
    "collapsed": false
   }
  },
  {
   "cell_type": "code",
   "execution_count": null,
   "outputs": [],
   "source": [
    "def send_cheap_flats(df):\n",
    "    for index, row in df.iterrows():\n",
    "        sleep(7)\n",
    "        current_row = f\"На сайте появилась выгодная квартира:\\n\" \\\n",
    "                      f\"- Цена за квадратный метр следующая {row[0]};\\n\" \\\n",
    "                      f\"- Полная цена = {row[1]};\\n\" \\\n",
    "                      f\"- Кол-во квадратных метров = {row[5]};\\n\" \\\n",
    "                      f\"- Находиться на станции метро = {row[2]} ({row[4]} минуток от метро).\\n\" \\\n",
    "                      f\"Если вас заинтересовало данное предложение переходите по ссылке: {row[3]}\"\n",
    "        bot.sendMessage(chat_id=chat_id, text=current_row)"
   ],
   "metadata": {
    "collapsed": false
   }
  },
  {
   "cell_type": "code",
   "execution_count": null,
   "outputs": [],
   "source": [
    "send_cheap_flats(needed_df)"
   ],
   "metadata": {
    "collapsed": false
   }
  }
 ],
 "metadata": {
  "kernelspec": {
   "display_name": "Python 3",
   "language": "python",
   "name": "python3"
  },
  "language_info": {
   "codemirror_mode": {
    "name": "ipython",
    "version": 2
   },
   "file_extension": ".py",
   "mimetype": "text/x-python",
   "name": "python",
   "nbconvert_exporter": "python",
   "pygments_lexer": "ipython2",
   "version": "2.7.6"
  }
 },
 "nbformat": 4,
 "nbformat_minor": 0
}
